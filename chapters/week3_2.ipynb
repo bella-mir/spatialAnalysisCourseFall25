{
 "cells": [
  {
   "cell_type": "markdown",
   "id": "7016aff0",
   "metadata": {},
   "source": [
    "# IV. Введение в пространственную статистику\n"
   ]
  },
  {
   "cell_type": "markdown",
   "id": "ccf5959c",
   "metadata": {},
   "source": [
    "**Часть 1: Пространственная статистика точек (Spatial Point Analysis)**\n"
   ]
  },
  {
   "cell_type": "markdown",
   "id": "98222129",
   "metadata": {},
   "source": [
    "Пространственная статистика точек — это набор методов для анализа распределения точек в пространстве. Эти методы позволяют изучать закономерности и кластеризацию точек, а также проводить проверку гипотез о случайности распределения объектов. Сегодня мы познакомимся с пространственной статистикой точек.\n",
    "\n",
    "Эти навыки помогут дополнить анализ исторической вспышки холеры в Лондоне (1854) – [второй проект](../projects/project2.ipynb) на нашем курсе.\n",
    "\n",
    "--\n",
    "\n",
    "В этом разделе мы изучим данные о ДТП с Санкт-Петербурге за 2023 год\n",
    "\n",
    "В дополнение к основной теме мы познакомимся с библиотеками seaborn и contextily. Seaborn - крутая библиотека для визуализации на основн matplotlib. Contextily помогает добавлять базовые карты (подложки).\n"
   ]
  },
  {
   "cell_type": "markdown",
   "id": "daab7458",
   "metadata": {},
   "source": [
    "0. Импортируем нужные библиотеки\n"
   ]
  },
  {
   "cell_type": "code",
   "execution_count": null,
   "id": "e81e69fa",
   "metadata": {},
   "outputs": [],
   "source": [
    "import geopandas as gpd   \n",
    "import osmnx as ox   \n",
    "\n",
    "import matplotlib.pyplot as plt  \n",
    "import matplotlib as mpl   \n",
    "\n",
    "from shapely.ops import voronoi_diagram  \n",
    "from shapely.geometry import MultiPoint, Point  \n",
    "\n",
    "import numpy as np  \n",
    "from scipy.spatial.distance import cdist\n",
    "from scipy.spatial import distance\n",
    "\n",
    "\n",
    "import contextily\n",
    "import seaborn\n",
    "import osmnx as ox\n",
    "\n"
   ]
  },
  {
   "cell_type": "markdown",
   "id": "038e8df8",
   "metadata": {},
   "source": [
    "<p style=\"color:#26528C; font-style:italic\"><strong>pandas</strong> – фундаментальная библиотека для работы с табличными данными в Python. Предоставляет высокоуровневые структуры данных (Series, DataFrame) и богатый набор инструментов для загрузки, очистки, агрегации, группировки и преобразования данных.</p>\n",
    "\n",
    "<p style=\"color:#26528C; font-style:italic\"><strong>GeoPandas</strong> – надстройка над pandas, расширяющая возможности DataFrame для работы с геометрией. Хранит объекты геометрии (точки, линии, полигоны) в специальном столбце <code>geometry</code> и предоставляет методы для пространственных операций (буферизация, объединение, объединение по пространственному признаку).</p>\n",
    "\n",
    "<p style=\"color:#26528C; font-style:italic\"><strong>osmnx</strong> – библиотека для загрузки и анализа данных OpenStreetMap. Позволяет легко получать графы улиц, точки интереса и другие геоданные напрямую из OSM, а также выполнять маршрутизацию, визуализацию и базовый пространственный анализ городских сетей.</p>\n",
    "\n",
    "<p style=\"color:#26528C; font-style:italic\"><strong>Shapely</strong> – библиотека для создания и операций над геометрическими примитивами (точки, линии, полигоны). Предоставляет методы для объединения, пересечения, измерения расстояний и вычисления буферных зон, а также инструменты для генерации диаграмм Вороного (<code>voronoi_diagram</code>) и работы с множеством точек (<code>MultiPoint</code>).</p>\n",
    "\n",
    "<p style=\"color:#26528C; font-style:italic\"><strong>numpy</strong> – основная библиотека для работы с многомерными массивами и матрицами в Python. Обеспечивает быстродействие за счёт векторизированных операций, а также содержит базовые функции для линейной алгебры, статистики и элементарных математических преобразований.</p>\n",
    "\n",
    "<p style=\"color:#26528C; font-style:italic\"><strong>scipy.spatial.distance</strong> – модуль из SciPy для вычисления попарных расстояний между наборами точек. Содержит функции для различных метрик (Евклидово расстояние, Манхэттенское и др.) и умеет возвращать матрицы расстояний для последующего анализа.</p>\n",
    "\n",
    "<p style=\"color:#26528C; font-style:italic\"><strong>matplotlib.pyplot</strong> – модуль визуализации, вдохновлённый MATLAB. Позволяет строить 2D-графики (линии, гистограммы, scatter-плоты), настраивать оформление, добавлять подписи, легенды и работать с осями.</p>\n",
    "\n",
    "<p style=\"color:#26528C; font-style:italic\"><strong>matplotlib</strong> – базовый пакет для создания статических, анимированных и интерактивных визуализаций в Python. Содержит механизмы настройки стилей, колормэппингов и управления элементами фигуры (шрифты, размеры, отступы).</p>\n",
    "\n",
    "<p style=\"color:#26528C; font-style:italic\"><strong>contextily</strong> – утилита для подложек карт (tile basemaps) в matplotlib. Позволяет легко добавить тайловые слои (OpenStreetMap, Stamen и др.) под ваши геоплоты, автоматически приводя проекции в соответствие.</p>\n"
   ]
  },
  {
   "cell_type": "markdown",
   "id": "ef681eac",
   "metadata": {},
   "source": [
    "Читаем данные о ДТП и перепроецируем в подходящую UTM-зону\n"
   ]
  },
  {
   "cell_type": "code",
   "execution_count": null,
   "id": "b380d6f1",
   "metadata": {},
   "outputs": [],
   "source": [
    "accidents = gpd.read_file('data/spb_dtp.gpkg')\n",
    "\n",
    "target_utm = accidents.estimate_utm_crs()\n",
    "accidents_utm = accidents.to_crs(target_utm)"
   ]
  },
  {
   "cell_type": "markdown",
   "id": "df16aba1",
   "metadata": {},
   "source": [
    "## 1. Расстояние до ближайшего соседа (Nearest Neighbor Distance)\n",
    "\n",
    "Этот метод используется для измерения расстояний между точками и анализа их пространственного распределения\n"
   ]
  },
  {
   "cell_type": "code",
   "execution_count": null,
   "id": "53524a03",
   "metadata": {},
   "outputs": [],
   "source": [
    "# Расчёт расстояний до ближайшего соседа\n",
    "distances = []\n",
    "for point in accidents_utm.geometry:\n",
    "    dist = accidents_utm.geometry.distance(point)\n",
    "    dist = dist[dist > 0]  # исключаем нулевые значения\n",
    "    distances.append(np.min(dist))\n",
    "\n",
    "# Визуализация гистроаммы распределения\n",
    "plt.hist(distances, bins=20, edgecolor='black')\n",
    "plt.title(\"Распределение расстояний до ближайшего соседа\")\n",
    "plt.xlabel(\"Расстояние\")\n",
    "plt.ylabel(\"Частота\")\n",
    "plt.show()\n"
   ]
  },
  {
   "cell_type": "markdown",
   "id": "abb1071f",
   "metadata": {},
   "source": [
    "## 2. Nearest Neighbour Index\n",
    "\n",
    "NNI (Nearest Neighbor Index, индекс ближайшего соседа) — это статистическая мера, которая позволяет оценить, насколько равномерно распределены объекты в пространстве. Давайте посмотрим, на распределение театров в Санкт-Петербурге\n"
   ]
  },
  {
   "cell_type": "markdown",
   "id": "24c5a9bc",
   "metadata": {},
   "source": [
    "Как он считается?\n",
    "\n",
    "NNI (Clark–Evans nearest-neighbor index) сравнивает **фактическое среднее расстояние до ближайшего соседа** с ожидаемым средним расстоянием при **случайном равномерном размещении** (CSR, Poisson).\n",
    "\n",
    "- Пусть (n) — число объектов, (A) — площадь изучаемой области, $$(\\lambda = n/A)$$ — плотность (кол-во объектов на единицу площади).\n",
    "- **Фактическое среднее расстояние**:\n",
    "  $$\n",
    "  (\\bar r = \\frac{1}{n}\\sum_i \\min_{j\\neq i} d(i,j))\n",
    "  $$\n",
    "- **Ожидаемое среднее** при CSR: $$(\\mathbb{E}[r] = \\frac{1}{2\\sqrt{\\lambda}})$$.\n",
    "- **Индекс**: $$(\\text{NNI} = \\bar r \\big/ \\mathbb{E}[r])$$.\n",
    "\n",
    "  - NNI < 1 → объекты **склонны кластеризоваться**.\n",
    "  - NNI ≈ 1 → **случайное** размещение (как при CSR).\n",
    "  - NNI > 1 → **регулярное/дисперсное** размещение (объекты «раздвинуты»).\n"
   ]
  },
  {
   "cell_type": "code",
   "execution_count": null,
   "id": "eb70944b",
   "metadata": {},
   "outputs": [],
   "source": [
    "#  Вычисление среднего расстояния до ближайшего соседа\n",
    "average_nearest_neighbor_distance = np.mean(distances)\n",
    "\n",
    "# Вычисление площади Санкт-Петербурга\n",
    "spb_area = ox.geocode_to_gdf(\"Санкт-Петербург\")\n",
    "spb_area = spb_area.to_crs(spb_area.estimate_utm_crs())\n",
    "spb_area = spb_area.area.values[0] \n",
    "\n",
    "# Расчет ожидаемого среднего расстояния для случайного распределения точек\n",
    "n = len(distances)\n",
    "expected_mean_distance = 0.5 * np.sqrt(spb_area / n)\n",
    "\n",
    "# Расчет NNI\n",
    "NNI = average_nearest_neighbor_distance / expected_mean_distance\n",
    "NNI\n",
    "\n"
   ]
  },
  {
   "cell_type": "markdown",
   "id": "a85b2f93",
   "metadata": {},
   "source": [
    "Полученное значение **NNI ≈ 0.42** существенно меньше единицы. Это говорит о том, что распределение ДТП в Петербурге **кластери­зовано**, а не случайно или равномерно.\n",
    "\n",
    "Альтернативно можно подумать о том, как считать площадь территории без учеба административных границ, например, создавая выпуклую оболчку вокруг точек:\n",
    "\n",
    "1. Создание выпуклой оболочки (convex hull)\n",
    "   convex_hull = accidents.geometry.unary_union.convex_hull\n",
    "\n",
    "2. Создание нового GeoDataFrame для выпуклой оболочки\n",
    "   convex_hull_gdf = gpd.GeoDataFrame(\n",
    "   {'geometry': [convex_hull]},\n",
    "   crs=accidents.crs # Убедитесь, что координатная система одинакова\n",
    "   )\n",
    "\n",
    "Но это тоже неидеальный вариант для Санкт-Петербурга, почему?\n"
   ]
  },
  {
   "cell_type": "markdown",
   "id": "c18e529d",
   "metadata": {},
   "source": [
    "## 3. Визуальное исследование точек\n"
   ]
  },
  {
   "cell_type": "code",
   "execution_count": null,
   "id": "4883ad93",
   "metadata": {},
   "outputs": [],
   "source": [
    "seaborn.jointplot(x=accidents_utm.geometry.x, y=accidents_utm.geometry.y, data=accidents_utm, s=0.5);"
   ]
  },
  {
   "cell_type": "markdown",
   "id": "4b701b8c",
   "metadata": {},
   "source": [
    "Это хороший старт: благодаря гистроамме мы видим, что точки склонны сосредотачиваться в центре города и на юге. Но без знания города, тяжело оценить размещение объектов. Давайте добавим на карту basemap\n"
   ]
  },
  {
   "cell_type": "markdown",
   "id": "57f57089",
   "metadata": {},
   "source": [
    "Сделаем это с помощью библиотеки contextily\n"
   ]
  },
  {
   "cell_type": "code",
   "execution_count": null,
   "id": "01c21125",
   "metadata": {},
   "outputs": [],
   "source": [
    "joint_axes = seaborn.jointplot(\n",
    "    x=accidents_utm.geometry.x, y=accidents_utm.geometry.y, data=accidents_utm, s=0.5\n",
    ")\n",
    "contextily.add_basemap(\n",
    "    joint_axes.ax_joint,\n",
    "    source=contextily.providers.CartoDB.PositronNoLabels,\n",
    "    crs=target_utm,\n",
    ")"
   ]
  },
  {
   "cell_type": "markdown",
   "id": "68225151",
   "metadata": {},
   "source": [
    "## 4. Плотность на основе регулярной сетки\n"
   ]
  },
  {
   "cell_type": "markdown",
   "id": "0eb907e5",
   "metadata": {},
   "source": [
    "Отобразим плотность на основе ячеек регулярной сетки\n"
   ]
  },
  {
   "cell_type": "markdown",
   "id": "4fcd3ce6",
   "metadata": {},
   "source": [
    "Когда слишком много точек сосредоточено в одной области, плотное наложение точек затрудняет выявление паттернов. Например, на карте видно, что в центре города сосредоточено очень много аварий, но трудно понять, является ли это равномерным распределением или есть места с особенно высокой концентрацией. Поэтому можно наложить точки на сетку и наглядно увидеть концентрацию\n"
   ]
  },
  {
   "cell_type": "code",
   "execution_count": null,
   "id": "46f4913e",
   "metadata": {},
   "outputs": [],
   "source": [
    "# Set up figure and axis\n",
    "f, ax = plt.subplots(1, figsize=(12, 9))\n",
    "# Generate and add hexbin with 50 hexagons in each\n",
    "# dimension, no borderlines, half transparency,\n",
    "# and the reverse viridis colormap\n",
    "hb = ax.hexbin(\n",
    "    accidents_utm.geometry.x,\n",
    "    accidents_utm.geometry.y,\n",
    "    gridsize=50,\n",
    "    linewidths=0,\n",
    "    alpha=0.5,\n",
    "    cmap=\"viridis_r\",\n",
    ")\n",
    "# Add basemap\n",
    "contextily.add_basemap(\n",
    "    ax, source=contextily.providers.CartoDB.Positron,\n",
    "    crs=target_utm,\n",
    ")\n",
    "# Add colorbar\n",
    "plt.colorbar(hb)\n",
    "# Remove axes\n",
    "ax.set_axis_off()"
   ]
  },
  {
   "cell_type": "markdown",
   "id": "3524cecf",
   "metadata": {},
   "source": [
    "## 5. Плотностная модель (Kernel Density Estimation)\n"
   ]
  },
  {
   "cell_type": "markdown",
   "id": "14a296d1",
   "metadata": {},
   "source": [
    "Альтернативный подход оценка плотности с помощью KDE (kernel density estimation): эмпирическая аппроксимация функции плотности вероятности.\n",
    "\n",
    "Вместо того чтобы накладывать сетку квадратов или гексагонов и подсчитывать, сколько точек попадает в каждую, KDE накладывает сетку точек на интересующее пространство и размещает функции ядра, которые учитывают точки вокруг них с разным весом в зависимости от расстояния. Эти подсчеты затем агрегируются, чтобы создать глобальную поверхность с вероятностью плотности.\n"
   ]
  },
  {
   "cell_type": "code",
   "execution_count": null,
   "id": "974f1d02",
   "metadata": {},
   "outputs": [],
   "source": [
    "\n",
    "# Set up figure and axis\n",
    "f, ax = plt.subplots(1, figsize=(9, 9))\n",
    "# Generate and add KDE with a shading of 50 gradients\n",
    "# coloured contours, 75% of transparency,\n",
    "# and the reverse viridis colormap\n",
    "\n",
    "seaborn.kdeplot(\n",
    "    x=accidents_utm.geometry.x,\n",
    "    y=accidents_utm.geometry.y,\n",
    "    levels=50,\n",
    "    fill=True,\n",
    "    alpha=0.55,\n",
    "    cmap=\"viridis_r\",\n",
    "    ax=ax\n",
    ")\n",
    "# Add basemap\n",
    "contextily.add_basemap(\n",
    "    ax, source=contextily.providers.CartoDB.Positron,\n",
    "    crs=target_utm,\n",
    ")\n",
    "# Remove axes\n",
    "ax.set_axis_off()"
   ]
  },
  {
   "cell_type": "markdown",
   "id": "e1cd42f5",
   "metadata": {},
   "source": [
    "## 6. Центрография\n"
   ]
  },
  {
   "cell_type": "markdown",
   "id": "3ddc64d0",
   "metadata": {},
   "source": [
    "Это раздел пространственного анализа, посвящённый выявлению «центров» точечного распределения и оценке его структуры.\n",
    "Главные задачи центрографии:\n",
    "\n",
    "- Определить «центр тяжести» набора точек, чтобы получить представление о том, где сосредоточена максимальная масса событий (например, аварий, преступлений, точек продаж и т. д.)\n",
    "- Сравнить разные распределения: сместился ли центр события со временем, отличается ли он между двумя категориями объектов.\n",
    "- Оценить степень разброса: помимо центра важно знать, насколько распределены точки вокруг него.\n"
   ]
  },
  {
   "cell_type": "code",
   "execution_count": null,
   "id": "ead23f4f",
   "metadata": {},
   "outputs": [],
   "source": [
    "from pointpats import centrography"
   ]
  },
  {
   "cell_type": "markdown",
   "id": "82c3bcbf",
   "metadata": {},
   "source": [
    "Определим средний и медианный центр нашего набора данных\n"
   ]
  },
  {
   "cell_type": "code",
   "execution_count": null,
   "id": "79cd29d9",
   "metadata": {},
   "outputs": [],
   "source": [
    "# Извлечение координат x и y\n",
    "accidents_utm[\"x\"] = accidents_utm.geometry.x\n",
    "accidents_utm[\"y\"] = accidents_utm.geometry.y\n",
    "\n",
    "# Вычисление среднего центра (mean center)\n",
    "mean_center = centrography.mean_center(accidents_utm[[\"x\", \"y\"]])\n",
    "\n",
    "# Вычисление медианного центра (Euclidean median)\n",
    "med_center = centrography.euclidean_median(accidents_utm[[\"x\", \"y\"]])"
   ]
  },
  {
   "cell_type": "markdown",
   "id": "37600bfd",
   "metadata": {},
   "source": [
    "Отобразим на карте\n"
   ]
  },
  {
   "cell_type": "code",
   "execution_count": null,
   "id": "e5344741",
   "metadata": {},
   "outputs": [],
   "source": [
    "# Generate scatterplot\n",
    "joint_axes = seaborn.jointplot(\n",
    "    x=\"x\", y=\"y\", data=accidents_utm, s=0.75, height=9\n",
    ")\n",
    "# Add mean point and marginal lines\n",
    "joint_axes.ax_joint.scatter(\n",
    "    *mean_center, color=\"red\", marker=\"x\", s=50, label=\"Mean Center\"\n",
    ")\n",
    "joint_axes.ax_marg_x.axvline(mean_center[0], color=\"red\")\n",
    "joint_axes.ax_marg_y.axhline(mean_center[1], color=\"red\")\n",
    "# Add median point and marginal lines\n",
    "joint_axes.ax_joint.scatter(\n",
    "    *med_center,\n",
    "    color=\"limegreen\",\n",
    "    marker=\"o\",\n",
    "    s=50,\n",
    "    label=\"Median Center\"\n",
    ")\n",
    "joint_axes.ax_marg_x.axvline(med_center[0], color=\"limegreen\")\n",
    "joint_axes.ax_marg_y.axhline(med_center[1], color=\"limegreen\")\n",
    "# Legend\n",
    "joint_axes.ax_joint.legend()\n",
    "# Add basemap\n",
    "contextily.add_basemap(\n",
    "\n",
    "    joint_axes.ax_joint, source=contextily.providers.CartoDB.Positron, crs= target_utm,\n",
    ")\n",
    "# Clean axes\n",
    "joint_axes.ax_joint.set_axis_off()\n",
    "# Display\n",
    "plt.show()"
   ]
  },
  {
   "cell_type": "markdown",
   "id": "93cfce4f",
   "metadata": {},
   "source": [
    "Посчитаем стандартное расстояние (пространственный аналог среднего отклонения) - мреднее расстояние точек от центра\n"
   ]
  },
  {
   "cell_type": "code",
   "execution_count": null,
   "id": "f11857f7",
   "metadata": {},
   "outputs": [],
   "source": [
    "centrography.std_distance(accidents_utm[[\"x\", \"y\"]])"
   ]
  },
  {
   "cell_type": "markdown",
   "id": "28f281eb",
   "metadata": {},
   "source": [
    "## 7. Диаграмма Вороного\n"
   ]
  },
  {
   "cell_type": "markdown",
   "id": "480733cf",
   "metadata": {},
   "source": [
    "Диаграмма Вороного (или разбиение Вороного) — это разбиение пространства на ячейки по следующему правилу: каждой точке-генератору (site) сопоставляется такая область, что любая точка внутри этой области ближе к нему, чем к любой другой.\n"
   ]
  },
  {
   "cell_type": "markdown",
   "id": "6b56a059",
   "metadata": {},
   "source": [
    "Загрузим данные станций метро и разобьём территорию Петербурга на области Вороного: каждая область соответствует ближайшей станции\n"
   ]
  },
  {
   "cell_type": "code",
   "execution_count": null,
   "id": "54addcb3",
   "metadata": {},
   "outputs": [],
   "source": [
    "#Прочитаем данные о станциях метро\n",
    "metro = gpd.read_file('data/spb_metro.geojson')\n",
    "admin_okrug = gpd.read_file('data/spb_admin.gpkg')\n",
    "\n",
    "#Создадим полигон с границами города на основе admin_okrug c помощью инструмента dissolve\n",
    "admin_border = admin_okrug.dissolve()\n",
    "\n",
    "\n",
    "# Построим карту с двумя слоями\n",
    "fig, ax = plt.subplots(figsize=(8, 8))\n",
    "# Сначала — граница города\n",
    "admin_border.plot(ax=ax, color='none', edgecolor='black', linewidth=1)\n",
    "# Затем — станции метро\n",
    "metro.plot(ax=ax, color='red', markersize=10, label='Станции метро')\n",
    "# Оформление\n",
    "ax.set_title('Граница СПб и станции метро', fontsize=14)\n",
    "ax.axis('off')\n",
    "ax.legend()\n",
    "\n",
    "plt.tight_layout()\n",
    "plt.show()\n"
   ]
  },
  {
   "cell_type": "markdown",
   "id": "10471237",
   "metadata": {},
   "source": [
    "Строим диаграмму Вороного\n"
   ]
  },
  {
   "cell_type": "code",
   "execution_count": null,
   "id": "540a8a3b",
   "metadata": {},
   "outputs": [],
   "source": [
    "# 1. Собираем все точки-генераторы в один объект MultiPoint\n",
    "#    Здесь каждая станция метро — это точка (Point).\n",
    "#    .geometry.tolist() возвращает список shapely-геометрий.\n",
    "points_mp = MultiPoint(metro.geometry.tolist())\n",
    "\n",
    "# 2. Генерируем диаграмму Вороного по точечному набору станций метро,\n",
    "#    ограничивая все ячейки рамкой города (envelope) — чтобы полигоны\n",
    "#    не выходили за пределы Санкт-Петербурга.\n",
    "vor = voronoi_diagram(points_mp, envelope=admin_border.geometry.iloc[0])\n",
    "\n",
    "# 3. Создаём GeoDataFrame из полигонов Вороного:\n",
    "#    конвертируем коллекцию геометрий в список и передаём его в GeoDataFrame,\n",
    "#    сохраняя исходную систему координат (CRS) станций метро.\n",
    "cells = list(vor.geoms)\n",
    "vor_gdf = gpd.GeoDataFrame(geometry=cells, crs=metro.crs)\n",
    "\n",
    "# 4. Визуализация результата\n",
    "fig, ax = plt.subplots(figsize=(8, 8))\n",
    "\n",
    "# 4.1. Рисуем полигоны диаграммы Вороного\n",
    "#      cmap='gist_ncar' — качественная палитра с множеством цветов.\n",
    "#      edgecolor='white' и alpha=0.6 делают границы полигонов чёткими,\n",
    "#      но сохраняют прозрачность для наглядности.\n",
    "vor_gdf.plot(\n",
    "    ax=ax,\n",
    "    cmap='gist_ncar',\n",
    "    edgecolor='white',\n",
    "    alpha=0.6\n",
    ")\n",
    "\n",
    "# 4.2. Наносим станции метро поверх полигонов\n",
    "#      color='red' и markersize задают красные точки нужного размера.\n",
    "metro.plot(\n",
    "    ax=ax,\n",
    "    color='red',\n",
    "    markersize=8,\n",
    "    label='Станции метро'\n",
    ")\n",
    "\n",
    "# 4.3. Рисуем контур границы города\n",
    "#      boundary.plot рисует только линию границы без заливки.\n",
    "admin_border.boundary.plot(\n",
    "    ax=ax,\n",
    "    color='black',\n",
    "    linewidth=1,\n",
    "    label='Граница СПб'\n",
    ")\n",
    "\n",
    "# 5. Настройка оформления\n",
    "ax.set_title(\n",
    "    \"Диаграмма Вороного по станциям метро СПб (Shapely)\",\n",
    "    fontsize=14\n",
    ")\n",
    "ax.axis('off')   # отключаем оси, они не нужны на карте\n",
    "ax.legend()      # выводим легенду по точкам и границе\n",
    "\n",
    "plt.tight_layout()\n",
    "plt.show()\n"
   ]
  },
  {
   "cell_type": "markdown",
   "id": "e5a9a50c",
   "metadata": {},
   "source": [
    "Обрежем диаграмму Вороного по границам города\n"
   ]
  },
  {
   "cell_type": "code",
   "execution_count": null,
   "id": "826a531a",
   "metadata": {},
   "outputs": [],
   "source": [
    "# 1.Выполняем обрезку (clip) полигонов Вороного по границе Санкт-Петербурга\n",
    "clipped_vor = gpd.clip(vor_gdf, admin_border.geometry.unary_union)\n",
    "\n",
    "# 2. Визуализируем результат\n",
    "fig, ax = plt.subplots(figsize=(8, 8))\n",
    "\n",
    "# 2.1. Рисуем обрезанные полигоны Вороного\n",
    "clipped_vor.plot(\n",
    "    ax=ax,\n",
    "    cmap='gist_ncar',\n",
    "    edgecolor='white',\n",
    "    alpha=0.6\n",
    ")\n",
    "\n",
    "# 2.2. Наносим станции метро поверх полигонов\n",
    "metro.plot(\n",
    "    ax=ax,\n",
    "    color='red',\n",
    "    markersize=8,\n",
    "    label='Станции метро'\n",
    ")\n",
    "\n",
    "# 2.3. Рисуем контур границы города\n",
    "admin_border.boundary.plot(\n",
    "    ax=ax,\n",
    "    color='black',\n",
    "    linewidth=1,\n",
    "    label='Граница СПб'\n",
    ")\n",
    "\n",
    "# 3. Оформление\n",
    "ax.set_title(\"Диаграмма Вороного по станциям метро СПб 2.0\", fontsize=14)\n",
    "ax.axis('off')\n",
    "ax.legend()\n",
    "\n",
    "plt.tight_layout()\n",
    "plt.show()"
   ]
  },
  {
   "cell_type": "markdown",
   "id": "3d080f03",
   "metadata": {},
   "source": [
    "Мы построили классическую диаграмму Вороного по станциям метро — пространство города разбилось на ячейки, каждая из которых показывает зону ближайшей станции. Это наглядно демонстрирует «зоны влияния» метро и помогает быстро оценить доступность станций для разных кварталов. Однако следует помнить, что вычисления основаны на прямом (евклидовом) расстоянии, без учёта реальной уличной сети, барьеров и особенностей рельефа. Поэтому, несмотря на полезную наглядность, для точного анализа доступности стоит использовать инструменты сетевого анализа (с некоторыми из них мы познакомимся в следующие недели)\n"
   ]
  },
  {
   "cell_type": "markdown",
   "id": "188126ec",
   "metadata": {},
   "source": [
    "## 8.Итог\n"
   ]
  },
  {
   "cell_type": "markdown",
   "id": "7f513f8b",
   "metadata": {},
   "source": [
    "1. Познакомились с основами анализа пространственного распределения точек на примере данных ДТП в Санкт-Петербурге.\n",
    "\n",
    "2. Познакомились с Диаграммой Вороного и построили «зоны влияния» станций метро: каждая точка города отнесена к ближайшей станции по евклидову расстоянию.\n",
    "\n",
    "3. Узнали об оценке кластеризации точечных объектов с помощью Nearest Neighbour Index.\n",
    "\n",
    "При этом всегда важно помнить ограничения методов: диаграмма Вороного и NNI опираются на прямое (евклидово) расстояние и не учитывают реальную уличную сеть и препятствия. Для более точных пространственных моделей стоит применять сетевой анализ (с которым мы познакомимся на следующих занятиях).\n",
    "\n",
    "На основе материалов этого и [прошлого](./week3_1.ipynb) занятия вы сможете полностью выполнить [второй проект](../projects/project2.ipynb)\n"
   ]
  }
 ],
 "metadata": {
  "kernelspec": {
   "display_name": "Python 3",
   "language": "python",
   "name": "python3"
  },
  "language_info": {
   "codemirror_mode": {
    "name": "ipython",
    "version": 3
   },
   "file_extension": ".py",
   "mimetype": "text/x-python",
   "name": "python",
   "nbconvert_exporter": "python",
   "pygments_lexer": "ipython3",
   "version": "3.10.6"
  }
 },
 "nbformat": 4,
 "nbformat_minor": 5
}
