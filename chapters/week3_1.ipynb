{
 "cells": [
  {
   "cell_type": "markdown",
   "id": "13f8edb2",
   "metadata": {},
   "source": [
    "# III. Основные инструменты геоанализа\n"
   ]
  },
  {
   "cell_type": "markdown",
   "id": "6b776ea4",
   "metadata": {},
   "source": [
    "В этом занятии мы познакомимся с базовыми методами пространственного анализа данных, используя возможности библиотек GeoPandas и Shapely. Мы научимся строить буферные зоны, выполнять пространственные объединения (spatial join), и пространственную фильтрацию, а также применять эти инструменты на практике: агрегировать точечные данные по ячейкам регулярной сетки, а также агрегировать их атрибутивную информацию\n",
    "\n",
    "Эти навыки подготовят нас к анализу исторической вспышки холеры в Лондоне (1854) – [второму проекту](../projects/project2.ipynb) на нашем курсе.\n"
   ]
  },
  {
   "cell_type": "markdown",
   "id": "8219d95e",
   "metadata": {},
   "source": [
    "**Импортируем библиотеки**\n"
   ]
  },
  {
   "cell_type": "markdown",
   "id": "0b4e49d0",
   "metadata": {},
   "source": [
    "Первым делом подключим необходимые библиотеки\n"
   ]
  },
  {
   "cell_type": "code",
   "execution_count": null,
   "id": "4922f0c9",
   "metadata": {},
   "outputs": [],
   "source": [
    "import pandas as pd  \n",
    "import geopandas as gpd\n",
    "import osmnx as ox\n",
    "\n",
    "from shapely.geometry import Point, Polygon, box\n",
    "import matplotlib.pyplot as plt\n",
    "import matplotlib as mpl   \n"
   ]
  },
  {
   "cell_type": "markdown",
   "id": "dd40dc0a",
   "metadata": {},
   "source": [
    "<p style=\"color:#26528C; font-style:italic\"><strong>GeoPandas</strong> – надстройка над pandas, расширяющая возможности DataFrame для работы с геометрией. Хранит объекты геометрии (точки, линии, полигоны) в специальном столбце `geometry` и предоставляет методы для пространственных операций (буферизация, объединение, объединение по пространственному признаку).</p> <p style=\"color:#26528C; font-style:italic\"><strong>osmnx</strong> – библиотека для загрузки и анализа данных OpenStreetMap. Позволяет легко получать графы улиц, точки интереса и другие геоданные напрямую из OSM, а также выполнять маршрутизацию, визуализацию и базовый пространственный анализ городских сетей.</p><p style=\"color:#26528C; font-style:italic\"><strong>Shapely</strong> – библиотека для создания и операций над геометрическими примитивами (точки, линии, полигоны). Предоставляет методы для объединения, пересечения, измерения расстояний и вычисления буферных зон.</p> <p style=\"color:#26528C; font-style:italic\"><strong>matplotlib.pyplot</strong> – модуль визуализации, вдохновлённый MATLAB. Позволяет строить 2D-графики (линии, гистограммы, scatter-плоты), настраивать оформление, добавлять подписи, легенды и работать с осями.</p> <p style=\"color:#26528C; font-style:italic\"><strong>contextily</strong> – утилита для подложек карт (tile basemaps) в matplotlib. Позволяет легко добавить тайловые слои (OpenStreetMap, Stamen и др.) под ваши геоплоты, автоматически приводя проекции в соответствие.</p>\n"
   ]
  },
  {
   "cell_type": "markdown",
   "id": "647bbf83",
   "metadata": {},
   "source": [
    "## 1. Базовые инструменты пространственного анализа\n"
   ]
  },
  {
   "cell_type": "markdown",
   "id": "57233a8a",
   "metadata": {},
   "source": [
    "Прежде чем переходить к основным инструментам, рассмотрим простые операции с геоданными: повторим как мы работаем с разными системами координат, рассмотрим измерение расстояний, буферизацию и пространственные отношения между объектами\n"
   ]
  },
  {
   "cell_type": "markdown",
   "id": "6a6603da",
   "metadata": {},
   "source": [
    "### 1.1 Создание точек и перепроецирование (повторение)\n"
   ]
  },
  {
   "cell_type": "markdown",
   "id": "b8e949a3",
   "metadata": {},
   "source": [
    "Для дальнешей работы создадим две точки на основе координат в Санкт-Петербурге\n"
   ]
  },
  {
   "cell_type": "code",
   "execution_count": null,
   "id": "161bed94",
   "metadata": {},
   "outputs": [],
   "source": [
    "# Задаем координаты двух точек (долгота, широта) \n",
    "lon1, lat1 = 30.3359, 59.9316  # Основное здание Александринского театра (историческая сцена)\n",
    "lon2, lat2 = 30.3322, 59.9385   # Государственный Русский музей (Михайловский дворец)\n",
    "\n",
    "# Создаем список точек\n",
    "geometry = [Point(lon1, lat1), Point(lon2, lat2)]\n",
    "\n",
    "# Создаем GeoDataFrame с названиями и геометрией\n",
    "points = gpd.GeoDataFrame({\n",
    "    \"name\": [\"Александринский театр\", \"Русский музей\"],\n",
    "    \"geometry\": geometry\n",
    "}, crs=\"EPSG:4326\")\n"
   ]
  },
  {
   "cell_type": "markdown",
   "id": "e334f330",
   "metadata": {},
   "source": [
    "Посмотрим на точки на карте\n"
   ]
  },
  {
   "cell_type": "code",
   "execution_count": null,
   "id": "42334737",
   "metadata": {},
   "outputs": [],
   "source": [
    "points.explore(tiles='CartoDB positron')"
   ]
  },
  {
   "cell_type": "markdown",
   "id": "baafe735",
   "metadata": {},
   "source": [
    "Мы создали две точки в географической системе координат WGS84 – широта и долгота в градусах.\n",
    "\n",
    "Однако, как мы помним, для многих аналитических задач (например, расчета расстояний, площадей) предпочтительно использовать систему координат в метрических единицах.\n"
   ]
  },
  {
   "cell_type": "markdown",
   "id": "0bb89325",
   "metadata": {},
   "source": [
    "Проверим текущую систему координат наших данных\n"
   ]
  },
  {
   "cell_type": "code",
   "execution_count": null,
   "id": "c1f1d245",
   "metadata": {},
   "outputs": [],
   "source": [
    "current_crs = points.crs\n",
    "print(\"Текущая система координат:\", current_crs)\n"
   ]
  },
  {
   "cell_type": "markdown",
   "id": "9706f515",
   "metadata": {},
   "source": [
    "Оценим подходящую UTM-зону для наших точек и перепроецируем в нее\n"
   ]
  },
  {
   "cell_type": "code",
   "execution_count": null,
   "id": "5c991e83",
   "metadata": {},
   "outputs": [],
   "source": [
    "utm_crs = points.estimate_utm_crs()       # автоматически определяем UTM-зону\n",
    "points_utm = points.to_crs(utm_crs)       # преобразуем GeoSeries в эту проекцию\n",
    "print(\"Новая система координат:\", points_utm.crs)"
   ]
  },
  {
   "cell_type": "markdown",
   "id": "14cd5792",
   "metadata": {},
   "source": [
    "Теперь обе точки заданы в спроецированной системе координат (UTM Zone, в метрах). Вычислим расстояние между ними.\n",
    "\n",
    "Сначала попробуем вычислить расстояние напрямую в географической CRS (в градусах), а затем в метрической CRS:\n"
   ]
  },
  {
   "cell_type": "code",
   "execution_count": null,
   "id": "9569035b",
   "metadata": {},
   "outputs": [],
   "source": [
    "# Расстояние между точками в градусах (как есть, в исходной CRS)\n",
    "dist_deg = points.geometry[0].distance(points.geometry[1])\n",
    "# Расстояние между точками в метрах (после проекции в UTM)\n",
    "dist_m = points_utm.geometry[0].distance(points_utm.geometry[1])\n",
    "print(f\"Расстояние в градусах: {dist_deg:.6f}°\")\n",
    "print(f\"Расстояние в метрах: ~{dist_m:.0f} м\")"
   ]
  },
  {
   "cell_type": "markdown",
   "id": "b68a4d2b",
   "metadata": {},
   "source": [
    "В дальнейшем, **всегда перед измерением расстояний или площадей, убедимся, что данные заданы в метрической системе координат**.\n"
   ]
  },
  {
   "cell_type": "markdown",
   "id": "f0abe050",
   "metadata": {},
   "source": [
    "### 1.2 Буферные зоны (Buffer)\n"
   ]
  },
  {
   "cell_type": "markdown",
   "id": "4f35c5bc",
   "metadata": {},
   "source": [
    "**Буферная зона** – это область вокруг геометрического объекта на заданном расстоянии. Чаще всего буфер строят вокруг точек, линий или полигонов, чтобы выделить зону влияния или ближайшего окружения.\n",
    "\n",
    "**При работе с буферами важно помнить про систему координат**: в географической системе координат (широта/долгота) радиус буфера указывается в градусах. Поэтому для измерения реальных расстояний буфер можно строить после в метрических системах координат (например, UTM).\n"
   ]
  },
  {
   "cell_type": "code",
   "execution_count": null,
   "id": "5ee350f6",
   "metadata": {},
   "outputs": [],
   "source": [
    "buffer_500 = points_utm.buffer(500)\n",
    "\n",
    "buffer_500.explore(tiles='CartoDB positron')"
   ]
  },
  {
   "cell_type": "markdown",
   "id": "fd0bdbbe",
   "metadata": {},
   "source": [
    "Построение буферных зон — относительно простая операция, но она регулярно применяется в пространственном анализе. При ее выполнении особенно важно внимательно отслеживать единицы измерения в используемой системе координат.\n"
   ]
  },
  {
   "cell_type": "markdown",
   "id": "7d6d4009",
   "metadata": {},
   "source": [
    "### 1.3 Пространственное объединение (Spatial Join)\n"
   ]
  },
  {
   "cell_type": "markdown",
   "id": "4743ad26",
   "metadata": {},
   "source": [
    "**Пространственное объединение (spatial join)** — операция, при которой к каждому объекту одного слоя присоединяются атрибуты объекта другого слоя, с которым он связан пространственно. Это может быть принадлежность к району, попадание в буфер и т.д.\n",
    "\n",
    "Однако само по себе пространственное объединение — это не только механическое добавление атрибутов на основе пересечений геометрий. Чтобы этот процесс был действительно точным и осмысленным, важно понимать, каким именно образом соотносятся объекты в пространстве. Пересекаются ли они? Один внутри другого? Или, быть может, лишь касаются границ?\n",
    "Для того чтобы корректно интерпретировать такие случаи, используются пространственные предикаты — ключевой инструмент в пространственном анализе, позволяющий задать и проверить топологические отношения между геометриями.\n",
    "\n",
    "**Пространственные предикаты** – это функции, позволяющие определить топологическое отношение между двумя геометрическими объектами (точками, линиями, полигонами и т.д.). Предикаты позволяют отвечать на вопросы вроде: «Пересекаются ли эти объекты?», «Находится ли один объект внутри другого?», «Касаются ли они границ друг друга?» и т.п. Знание пространственных отношений помогает выполнять пространственные запросы и объединения данных (spatial join), фильтрацию на основе взаимного расположения и др.\n",
    "\n",
    "Ниже приведена таблица основных бинарных предикатов (отношений) с кратким описанием:\n",
    "\n",
    "| **Предикат**                     | **Описание** (условие истинности)                                                                                                                                                                                                                                                                 |\n",
    "| -------------------------------- | ------------------------------------------------------------------------------------------------------------------------------------------------------------------------------------------------------------------------------------------------------------------------------------------------- |\n",
    "| **intersects** (_пересекается_)  | **Имеют общую точку** – Геометрии пересекаются, если они имеют хотя бы одну общую точку в пространстве (любое наложение границ или внутренних областей). Эквивалентно логическому отрицанию disjoint (см. ниже).                                                                                  |\n",
    "| **disjoint** (_не пересекается_) | **Не имеют общих точек** – Геометрии не пересекаются, если у них **нет ни одной** общей точки. То есть полностью разделены в пространстве.                                                                                                                                                        |\n",
    "| **within** (_внутри_)            | **A внутри B** – Геометрия A находится целиком внутри геометрии B, не выходя за ее границы. Все точки A (и граница, и внутренняя часть) лежат во внутренней области B. (Эквивалентно B.contains(A)).                                                                                              |\n",
    "| **contains** (_содержит_)        | **A содержит B** – Геометрия A полностью содержит геометрию B. То есть ни одна часть B не лежит вне A, при этом B не просто граничит с A, а имеет хотя бы одну точку строго внутри A. (Эквивалентно B.within(A)).                                                                                 |\n",
    "| **touches** (_касается_)         | **Касание границ** – Геометрии имеют хотя бы одну общую точку на границе, но **не** пересекаются по внутренней области. Иными словами, их границы соприкасаются, но пересечения интерьеров нет.                                                                                                   |\n",
    "| **overlaps** (_перекрывает_)     | **Частичное перекрытие** – Геометрии частично перекрываются, если они имеют общую часть, но ни одна не содержит другую целиком. При этом геометрии одного типа (полигон-полигон или линия-линия) – например, два полигона, которые пересекаются по площади, но каждый выходит за пределы другого. |\n",
    "| **crosses** (_перекрещивается_)  | **Пересечение с выходом** – Геометрии пересекаются _внутренними точками_ таким образом, что пересечение имеет меньшую размерность. Например, линия пересекает полигон, входя и выходя из него (часть линии внутри, часть снаружи), или две линии пересекаются в одной точке.                      |\n"
   ]
  },
  {
   "cell_type": "markdown",
   "id": "1e0afa12",
   "metadata": {},
   "source": [
    "Какой предикат нам понадобится для пространствнного объединения точек метро с полигонами районов города?\n",
    "\n",
    "(ответ будет ниже по ходу работы)\n"
   ]
  },
  {
   "cell_type": "markdown",
   "id": "022487b1",
   "metadata": {},
   "source": [
    "Перейдем к задаче – определим, в каких районах города находятся станции метро\n"
   ]
  },
  {
   "cell_type": "code",
   "execution_count": null,
   "id": "dd6b152a",
   "metadata": {},
   "outputs": [],
   "source": [
    "#Прочитаем данные о станциях метро\n",
    "metro = gpd.read_file('data/spb_metro.geojson')\n",
    "\n",
    "metro.explore(tiles='CartoDB positron')"
   ]
  },
  {
   "cell_type": "code",
   "execution_count": null,
   "id": "f975fbae",
   "metadata": {},
   "outputs": [],
   "source": [
    "#Прочитаем данные о городских районах\n",
    "admin_district = gpd.read_file('data/spb_admin.gpkg', layer=\"district\")\n",
    "\n",
    "admin_district.explore(tiles='CartoDB positron')"
   ]
  },
  {
   "cell_type": "markdown",
   "id": "a3359bda",
   "metadata": {},
   "source": [
    "C помощью пространственного объединения опрееделим, какая станция находится в каком районе\n"
   ]
  },
  {
   "cell_type": "code",
   "execution_count": null,
   "id": "63ee42a2",
   "metadata": {},
   "outputs": [],
   "source": [
    "metro_with_district = gpd.sjoin(metro, admin_district, predicate='within')\n",
    "metro_with_district[['name', 'geometry', 'NAME']].head()"
   ]
  },
  {
   "cell_type": "markdown",
   "id": "8a4d7925",
   "metadata": {},
   "source": [
    "Посчитаем количество станций в каждом из районов\n"
   ]
  },
  {
   "cell_type": "code",
   "execution_count": null,
   "id": "a2415a12",
   "metadata": {},
   "outputs": [],
   "source": [
    "count_by_district = metro_with_district.groupby(\"NAME\")[\"name\"].count().reset_index()\n",
    "count_by_district.columns = [\"Район\", \"Количество станций\"]\n",
    "count_by_district"
   ]
  },
  {
   "cell_type": "markdown",
   "id": "0782f547",
   "metadata": {},
   "source": [
    "Понимание пространственных предикатов особенно важно не только для объединения данных, но и для выполнения **фильтрации объектов на основе их взаимного расположения**. Иногда нам вовсе не нужно присоединять атрибуты одного слоя к другому — достаточно отобрать те объекты, которые, например, находятся в пределах заданной области, пересекаются с буферной зоной или касаются границ интересующей территории.\n",
    "Такая фильтрация позволяет гибко и точно выделять пространственно значимые подмножества данных, что делает её неотъемлемым инструментом пространственного анализа.\n"
   ]
  },
  {
   "cell_type": "markdown",
   "id": "d2f52876",
   "metadata": {},
   "source": [
    "### 1.4 Фильтрация объектов по пространственному признаку\n"
   ]
  },
  {
   "cell_type": "markdown",
   "id": "ace28121",
   "metadata": {},
   "source": [
    "Одно из распространённых действий в пространственном анализе – отбор объектов, удовлетворяющих определённому пространственному условию. Например, можно захотеть **выбрать все точки (объекты) внутри заданного полигона**. Это называется пространственной фильтрацией (фильтрация по местоположению).\n",
    "\n",
    "Давайте отфильтруем все кафе Санкт-Петербурга, которые находятся в зоне 500-метровой доступности от станций метро\n"
   ]
  },
  {
   "cell_type": "markdown",
   "id": "36594389",
   "metadata": {},
   "source": [
    "Подготовим данные\n"
   ]
  },
  {
   "cell_type": "code",
   "execution_count": null,
   "id": "538b7fcb",
   "metadata": {},
   "outputs": [],
   "source": [
    "#Прочитаем данные о станциях метро\n",
    "metro = gpd.read_file('data/spb_metro.geojson')"
   ]
  },
  {
   "cell_type": "markdown",
   "id": "76303833",
   "metadata": {},
   "source": [
    "Построим буферы 500-метровой доступности вокруг станций (предварительно проверим систему координат и перепроецируем, если нужно)\n"
   ]
  },
  {
   "cell_type": "code",
   "execution_count": null,
   "id": "946334ca",
   "metadata": {},
   "outputs": [],
   "source": [
    "metro.crs"
   ]
  },
  {
   "cell_type": "markdown",
   "id": "1c5fcc2b",
   "metadata": {},
   "source": [
    "Данные в географической системе координат, нам это не подходит, поэтому перепроецируем их перед тем как строить буферы\n"
   ]
  },
  {
   "cell_type": "code",
   "execution_count": null,
   "id": "ca650894",
   "metadata": {},
   "outputs": [],
   "source": [
    "utm_crs = metro.estimate_utm_crs()   # автоматически определяем UTM-зону\n",
    "metro_utm = metro.to_crs(utm_crs)  "
   ]
  },
  {
   "cell_type": "markdown",
   "id": "19b0094b",
   "metadata": {},
   "source": [
    "Построим буферы\n"
   ]
  },
  {
   "cell_type": "code",
   "execution_count": null,
   "id": "47ea9b2d",
   "metadata": {},
   "outputs": [],
   "source": [
    "metro_buff_500 = metro_utm.buffer(500)\n",
    "metro_buff_500.explore(tiles='CartoDB positron')"
   ]
  },
  {
   "cell_type": "markdown",
   "id": "1754322d",
   "metadata": {},
   "source": [
    "Выгрузим информацию о кафе из OSM, отфильтруем только точки и перепроецируем\n"
   ]
  },
  {
   "cell_type": "code",
   "execution_count": null,
   "id": "1daac166",
   "metadata": {},
   "outputs": [],
   "source": [
    "tags = {\"amenity\": \"cafe\"}\n",
    "cafes = ox.features_from_place(\"Санкт-Петербург, Россия\", tags)\n",
    "\n",
    "#фильтрация точек\n",
    "cafes = cafes[cafes.geometry.type == 'Point']\n",
    "\n",
    "#перепроецирование\n",
    "cafes_utm = cafes.to_crs(utm_crs) \n",
    "\n",
    "\n",
    "cafes_utm.explore(tiles='CartoDB positron')"
   ]
  },
  {
   "cell_type": "markdown",
   "id": "54c857b2",
   "metadata": {},
   "source": [
    "Теперь отфильтруем только те кафе, которые строго находятся **внутри** 500-метровых буферов вокруг станций метро\n"
   ]
  },
  {
   "cell_type": "code",
   "execution_count": null,
   "id": "0d07ad9a",
   "metadata": {},
   "outputs": [],
   "source": [
    "# Создаем один общий буфер (объединение всех зон)\n",
    "combined_buffer = metro_buff_500.union_all()\n",
    "\n",
    "# Фильтруем кафе внутри общего буфера\n",
    "cafes_within = cafes_utm[cafes_utm.geometry.within(combined_buffer)]"
   ]
  },
  {
   "cell_type": "code",
   "execution_count": null,
   "id": "24ea6bf7",
   "metadata": {},
   "outputs": [],
   "source": [
    "cafes_within.explore(tiles='CartoDB positron')"
   ]
  },
  {
   "cell_type": "markdown",
   "id": "ae2e7670",
   "metadata": {},
   "source": [
    "Мы рассмотрели ещё один важный приём пространственного анализа – фильтрацию объектов по принадлежности области. Он опирается на предикаты пространственных отношений (`within`, `contains`, и др.) и позволяет извлекать информацию об объектах в заданных границах. Это очень мощный инструмент, который используется в самых разных задачах ГИС, от простых запросов («найти все объекты внутри...») до сложных географических вычислений.\n"
   ]
  },
  {
   "cell_type": "markdown",
   "id": "fd195400",
   "metadata": {},
   "source": [
    "## 2. Агрегирование данных\n"
   ]
  },
  {
   "cell_type": "markdown",
   "id": "e6bd9757",
   "metadata": {},
   "source": [
    "Одним из способов оценить **плотность точечных объектов** на территории является разделение области на сетку (fishnet) и подсчет количества точек в каждой ячейке. Такой подход дает наглядную картину распределения объектов по пространству.\n",
    "\n",
    "В этом разделе мы посчитаем плотность размещения кафе в Центральном районе Санкт-Петербурга. Для этого:\n",
    "\n",
    "- Построим регулярную сетку квадратных ячеек, покрывающую интересующую нас территорию.\n",
    "- Выполним пространственное объединение: определим, сколько кафе попадает в каждую ячейку.\n",
    "- Вычислим плотность кафе (количество на км²) по ячейкам и визуализируем результат.\n",
    "- Дополнительно покажем, как можно агрегировать другие атрибуты (например, средний рейтинг кафе) по пространственным ячейкам.\n"
   ]
  },
  {
   "cell_type": "markdown",
   "id": "c38b7f20",
   "metadata": {},
   "source": [
    "### 2.1 Построение квадратной сетки (fishnet)\n",
    "\n",
    "Чтобы создать сетку, нам нужны границы рассматриваемой территории и выбор размера ячейки. Воспользуемся границами одного из районов Санкт-Петербурга и зададим размер квадрата, например 200 метров.\n",
    "\n",
    "Напишем алгоритм, который по экстенту заданной области и размеру стороны квадрата генерирует GeoDataFrame с полигональной сеткой, покрывающей эту область:\n"
   ]
  },
  {
   "cell_type": "markdown",
   "id": "d637f72a",
   "metadata": {},
   "source": [
    "##### Шаг 0 - Получение данных о границах территории\n"
   ]
  },
  {
   "cell_type": "code",
   "execution_count": null,
   "id": "3bf73bf8",
   "metadata": {},
   "outputs": [],
   "source": [
    "#Запишем в переменную название изучаемого района \n",
    "area = \"Центральный район, Санкт-Петербург\"\n",
    "\n",
    "# Получаем границу района с помощью номинального геокодирования\n",
    "admin_polygon = ox.geocode_to_gdf(area)\n",
    "print(\"Исходная CRS:\", admin_polygon.crs)\n"
   ]
  },
  {
   "cell_type": "markdown",
   "id": "549fdb7f",
   "metadata": {},
   "source": [
    "Если набор в географических координатах, перепроецируем в UTM\n"
   ]
  },
  {
   "cell_type": "markdown",
   "id": "238e0e13",
   "metadata": {},
   "source": [
    "##### Шаг 1 - Перепроецирование данных в метрическую систему координат\n"
   ]
  },
  {
   "cell_type": "code",
   "execution_count": null,
   "id": "6ddf1d12",
   "metadata": {},
   "outputs": [],
   "source": [
    "# Определяем и устанавливаем UTM-проекцию\n",
    "utm_zone = admin_polygon.estimate_utm_crs()\n",
    "admin_polygon = admin_polygon.to_crs(utm_zone)\n",
    "print(\"Проекция для сетки:\", admin_polygon.crs)"
   ]
  },
  {
   "cell_type": "code",
   "execution_count": null,
   "id": "4290769d",
   "metadata": {},
   "outputs": [],
   "source": [
    "# Визуализация\n",
    "ax = admin_polygon.plot(marker='o', color='green', figsize=(6,6))\n",
    "plt.title(\"Границы района (CRS: {})\".format(utm_crs))\n",
    "plt.show()"
   ]
  },
  {
   "cell_type": "markdown",
   "id": "7b24002a",
   "metadata": {},
   "source": [
    "##### Шаг 2 - Определение экстента (bounding box)\n"
   ]
  },
  {
   "cell_type": "markdown",
   "id": "e4bdfd15",
   "metadata": {},
   "source": [
    "Определим границы области для построения сетки\n"
   ]
  },
  {
   "cell_type": "code",
   "execution_count": null,
   "id": "01407fb7",
   "metadata": {},
   "outputs": [],
   "source": [
    "# Определяем минимальные и максимальные значения координат по долготе и по широте\n",
    "minx, miny, maxx, maxy = admin_polygon.total_bounds\n",
    "\n",
    "# Строим полигон-рамку (для визуалиации того, что мы получили - не обязательный шаг непосредственно для пострения сетки)\n",
    "bbox = Polygon([\n",
    "    (minx, miny), (maxx, miny),\n",
    "    (maxx, maxy), (minx, maxy)\n",
    "])\n",
    "\n",
    "# Посмотрим на результат\n",
    "ax = admin_polygon.plot(marker='o', color='green', figsize=(6,6))\n",
    "gpd.GeoSeries([bbox], crs=utm_crs).plot(\n",
    "    ax=ax, facecolor='none', edgecolor='red', linewidth=2\n",
    ")\n",
    "plt.title(\"Граница области (bounding box)\")\n",
    "plt.show()"
   ]
  },
  {
   "cell_type": "markdown",
   "id": "854957bb",
   "metadata": {},
   "source": [
    "##### Шаг 3 - Определеним размер ячейки\n"
   ]
  },
  {
   "cell_type": "code",
   "execution_count": null,
   "id": "5b3cccac",
   "metadata": {},
   "outputs": [],
   "source": [
    "# Параметр: размер ячейки (в метрах)\n",
    "square_size = 500"
   ]
  },
  {
   "cell_type": "markdown",
   "id": "b7a32052",
   "metadata": {},
   "source": [
    "##### Шаг 4 - Сгенерируем ячейки внутри заданного ограничивающего полигона\n"
   ]
  },
  {
   "cell_type": "code",
   "execution_count": null,
   "id": "8dbae10d",
   "metadata": {},
   "outputs": [],
   "source": [
    "# Список будущих полигонов\n",
    "grid_cells = []\n",
    "\n",
    "# Стартовые координаты\n",
    "x0, y0 = minx, miny\n",
    "x, y = x0, y0\n",
    "\n",
    "# Проходим по строкам и столбцам\n",
    "while y <= maxy:\n",
    "    while x <= maxx:\n",
    "        grid_cells.append(\n",
    "            box(x, y, x + square_size, y + square_size)\n",
    "        )\n",
    "        x += square_size\n",
    "    # после строки: сброс по X и шаг по Y\n",
    "    x = x0\n",
    "    y += square_size\n",
    "\n",
    "\n",
    "# Отфильтруем первые 10 ячеек, чтобы на них посмотреть \n",
    "first_few = grid_cells[:10]\n",
    "ax = gpd.GeoSeries(first_few, crs=utm_crs).plot(\n",
    "    figsize=(6,6), edgecolor='blue', facecolor='none', zorder=3\n",
    ")\n",
    "\n",
    "# отобразим также границу района\n",
    "admin_polygon.plot(ax=ax, marker='o', color='green', linewidth=1)\n",
    "\n",
    "# и его экстент\n",
    "gpd.GeoSeries([bbox], crs=utm_crs).plot(\n",
    "    ax=ax, facecolor='none', edgecolor='red', linewidth=2\n",
    ")\n",
    "\n",
    "\n",
    "plt.title(\"Первые 10 клеток + границы (admin & bbox)\")\n",
    "plt.show()"
   ]
  },
  {
   "cell_type": "markdown",
   "id": "cb5359ab",
   "metadata": {},
   "source": [
    "##### Шаг 5 - Собирем итоговую сетку в GeoDataFrame\n"
   ]
  },
  {
   "cell_type": "code",
   "execution_count": null,
   "id": "fbbc520e",
   "metadata": {},
   "outputs": [],
   "source": [
    "# Собираем всё в GeoDataFrame\n",
    "fishnet = gpd.GeoDataFrame({'geometry': grid_cells}, crs=utm_crs)\n",
    "\n",
    "# Показываем итоговую сетку поверх данных\n",
    "ax = admin_polygon.plot(marker='o', color='green', figsize=(6,6))\n",
    "fishnet.plot(ax=ax, edgecolor='gray', linewidth=0.5, alpha=0.7)\n",
    "plt.title(\"Итоговая регулярная сетка (fishnet/regular grid)\")\n",
    "plt.show()"
   ]
  },
  {
   "cell_type": "markdown",
   "id": "de3b690f",
   "metadata": {},
   "source": [
    "##### Шаг 6 - Напишем функцию на основе алгоритма\n"
   ]
  },
  {
   "cell_type": "markdown",
   "id": "3402caa2",
   "metadata": {},
   "source": [
    "На основе нашего алгоритма напишем функцию, которая на вход будет принимать только исходные данные (для определения экстента) и шаг сетки\n"
   ]
  },
  {
   "cell_type": "code",
   "execution_count": null,
   "id": "caf3c049",
   "metadata": {},
   "outputs": [],
   "source": [
    "from shapely.geometry import Polygon\n",
    "\n",
    "def create_regular_grid(gdf, square_size):\n",
    "    # Если набор в географических координатах, перепроецируем в UTM\n",
    "    utm_crs = gdf.estimate_utm_crs()\n",
    "    gdf_utm = gdf.to_crs(utm_crs)\n",
    "    # Получаем границы (bounding box) области\n",
    "    minX, minY, maxX, maxY = gdf_utm.total_bounds\n",
    "    grid_cells = []\n",
    "    x, y = minX, minY\n",
    "    # Двойной цикл: заполняем прямоугольник границ квадратами заданного размера\n",
    "    while y <= maxY:\n",
    "        while x <= maxX:\n",
    "            grid_cells.append(box(x, y, x + square_size, y + square_size))\n",
    "            x += square_size # двигаемся по X\n",
    "        x = minX             # возврат к началу по X\n",
    "        y += square_size     # двигаемся по Y (следующий ряд)\n",
    "    # Формируем GeoDataFrame\n",
    "    fishnet = gpd.GeoDataFrame(geometry=grid_cells, crs=utm_crs)\n",
    "    return fishnet\n",
    "\n"
   ]
  },
  {
   "cell_type": "code",
   "execution_count": null,
   "id": "43219412",
   "metadata": {},
   "outputs": [],
   "source": [
    "# Строим сетку с шагом 1000 м\n",
    "fishnet = create_regular_grid(admin_district, square_size=1000)\n",
    "print(f\"Создано ячеек: {len(fishnet)}\")\n",
    "fishnet.head(3)"
   ]
  },
  {
   "cell_type": "markdown",
   "id": "d0c5e817",
   "metadata": {},
   "source": [
    "Посмотрим на сетку на карте\n"
   ]
  },
  {
   "cell_type": "code",
   "execution_count": null,
   "id": "e34dcc87",
   "metadata": {},
   "outputs": [],
   "source": [
    "fishnet.explore(tiles='CartoDB positron')"
   ]
  },
  {
   "cell_type": "markdown",
   "id": "818bc51a",
   "metadata": {},
   "source": [
    "Отфильтруем те ячейки, которые находятся внутри границ Санкт-Петербурга\n"
   ]
  },
  {
   "cell_type": "code",
   "execution_count": null,
   "id": "3a0b8c10",
   "metadata": {},
   "outputs": [],
   "source": [
    "fishnet_filtered = fishnet[fishnet.intersects(admin_district.to_crs(cafes_utm.crs).union_all())]"
   ]
  },
  {
   "cell_type": "code",
   "execution_count": null,
   "id": "56798075",
   "metadata": {},
   "outputs": [],
   "source": [
    "fishnet_filtered.explore(tiles='CartoDB positron')"
   ]
  },
  {
   "cell_type": "markdown",
   "id": "e66bf22c",
   "metadata": {},
   "source": [
    "### 2.2 Агрегируем данные - подсчет количества объектов в ячейках (плотность кафе)\n",
    "\n",
    "Теперь получим данные о расположении **кафе** в исследуемом районе. Используем OSMnx для выгрузки точек с тегом `amenity=cafe` в границах района. Затем с помощью spatial join определим, сколько кафе попадает в каждую ячейку сетки.\n"
   ]
  },
  {
   "cell_type": "markdown",
   "id": "7da3c13c",
   "metadata": {},
   "source": [
    "##### Шаг1: Выполняем пространственное объединение кафе и сетки(Spatial Join)\n"
   ]
  },
  {
   "cell_type": "markdown",
   "id": "f5cdc51a",
   "metadata": {},
   "source": [
    "Пересекаем точки с кафе и полигоны регулярной сетки\n"
   ]
  },
  {
   "cell_type": "code",
   "execution_count": null,
   "id": "916d476f",
   "metadata": {},
   "outputs": [],
   "source": [
    "# sjoin: определяем, в какой квадрат попадает каждое кафе\n",
    "cafes_in_grid = gpd.sjoin(cafes_utm, fishnet_filtered, predicate=\"within\", how=\"left\")\n",
    "\n",
    "cafes_in_grid.head()\n"
   ]
  },
  {
   "cell_type": "markdown",
   "id": "6063a3e4",
   "metadata": {},
   "source": [
    "Считаем количество точек попавших в каждый из полигонов\n"
   ]
  },
  {
   "cell_type": "code",
   "execution_count": null,
   "id": "edb01905",
   "metadata": {},
   "outputs": [],
   "source": [
    "# Подсчитываем число точек в каждой ячейке (группируем по индексу ячейки)\n",
    "cafes_count_per_cell = cafes_in_grid.groupby('index_right').size()\n",
    "\n",
    "cafes_count_per_cell.head()"
   ]
  },
  {
   "cell_type": "markdown",
   "id": "f272185f",
   "metadata": {},
   "source": [
    "Записываем данные в исходный слой с сеткой\n"
   ]
  },
  {
   "cell_type": "code",
   "execution_count": null,
   "id": "90a017a8",
   "metadata": {},
   "outputs": [],
   "source": [
    "# Добавляем столбец с количеством кафе в соответствующую ячейку сетки\n",
    "fishnet_filtered['cafes_count'] = cafes_count_per_cell\n",
    "fishnet_filtered['cafes_count'] = fishnet_filtered['cafes_count'].fillna(0).astype(int)  # заполняем 0, где кафе нет\n",
    "fishnet_filtered.head(3)"
   ]
  },
  {
   "cell_type": "markdown",
   "id": "a85a3858",
   "metadata": {},
   "source": [
    "Смотрим на результат\n"
   ]
  },
  {
   "cell_type": "code",
   "execution_count": null,
   "id": "9aeffdc2",
   "metadata": {},
   "outputs": [],
   "source": [
    "fishnet_filtered.explore(column='cafes_count', cmap='YlGnBu', tiles='CartoDB positron')"
   ]
  },
  {
   "cell_type": "markdown",
   "id": "792274ba",
   "metadata": {},
   "source": [
    "##### Шаг2: Считаем плотность объектов\n"
   ]
  },
  {
   "cell_type": "markdown",
   "id": "13382e1b",
   "metadata": {},
   "source": [
    "Мы добавили к каждой ячейке количество кафе `cafes_count`. Теперь рассчитаем **плотность кафе** – сколько кафе приходится на квадратный километр в границах каждой ячейки\n"
   ]
  },
  {
   "cell_type": "code",
   "execution_count": null,
   "id": "5d60f339",
   "metadata": {},
   "outputs": [],
   "source": [
    "# Вычисляем площадь каждой ячейки в квадратных метрах\n",
    "cell_area_m2 = fishnet_filtered.geometry.area  \n",
    "# Добавляем столбец плотности кафе (число кафе на 1 км²)\n",
    "fishnet_filtered['cafe_density'] = fishnet_filtered['cafes_count'] / (cell_area_m2 / 1_000_000)\n",
    "\n",
    "fishnet_filtered.head()\n"
   ]
  },
  {
   "cell_type": "markdown",
   "id": "598a8200",
   "metadata": {},
   "source": [
    "Каждой ячейке присвоим цвет в зависимости от плотности кафе:\n"
   ]
  },
  {
   "cell_type": "code",
   "execution_count": null,
   "id": "aca64e4c",
   "metadata": {},
   "outputs": [],
   "source": [
    "fishnet_filtered.explore(column='cafe_density', cmap='YlGnBu', scheme='NaturalBreaks', legend=True,\n",
    "legend_kwds={'caption': 'Кафе на км²'}, tiles='CartoDB positron')\n"
   ]
  },
  {
   "cell_type": "markdown",
   "id": "83ded54b",
   "metadata": {},
   "source": []
  },
  {
   "cell_type": "markdown",
   "id": "bc411aca",
   "metadata": {},
   "source": [
    "## 3. Агрегирование атрибутивной информации\n"
   ]
  },
  {
   "cell_type": "markdown",
   "id": "cf978aee",
   "metadata": {},
   "source": [
    "Прочитаем данные об МКД в Санкт-Петербурге и о границах районов\n"
   ]
  },
  {
   "cell_type": "code",
   "execution_count": null,
   "id": "e91ba941",
   "metadata": {},
   "outputs": [],
   "source": [
    "#Данные с округами в Санкт-Петербурге в формате geopackage\n",
    "admin_okrug = gpd.read_file('data/spb_admin.gpkg', layer=\"okrug\")\n",
    "\n",
    "#МКД Санкт-Петербурга в формате csv\n",
    "mkd = pd.read_csv('data/spb_mkd.csv')\n",
    "#Разбиваем поле с координатами на два - 'lat' -- широта; 'lon' -- долгота\n",
    "mkd[['lat', 'lon']] = mkd['coordinates'].str.split(',', expand=True).astype(float)\n",
    "#На основе DataFrame создаем GeoDataFrame, определяя геометрию на основе координат\n",
    "mkd_gdf = gpd.GeoDataFrame(mkd, geometry=gpd.points_from_xy(mkd['lon'], mkd['lat']), crs=4326)"
   ]
  },
  {
   "cell_type": "markdown",
   "id": "b121c449",
   "metadata": {},
   "source": [
    "Давайте посмотрим, какая атрибутивная информация есть в слое с МКД\n"
   ]
  },
  {
   "cell_type": "code",
   "execution_count": null,
   "id": "bfbb85b8",
   "metadata": {},
   "outputs": [],
   "source": [
    "# такая запись помогает нам не просто показать первые строки, но и транспонировать таблицу, чтобы увидеть сразу все столбцы\n",
    "mkd_gdf.head().T"
   ]
  },
  {
   "cell_type": "markdown",
   "id": "312a3043",
   "metadata": {},
   "source": [
    "У нас, к сожалению, нет документации с описанием названий полей, но мы +- можем догадываться, какая именно информация содержится в полях.\n",
    "\n",
    "Из интересной информации, которую бы мы хотели посмотреть по каждому из округов можно выбрать:\n",
    "data_buildingdate - год постройки;\n",
    "\n",
    "**Давайте для каждого района посчитаем средний, медианный, самый ранний и самый поздний год постройки МКД**\n"
   ]
  },
  {
   "cell_type": "markdown",
   "id": "787598c8",
   "metadata": {},
   "source": [
    "Первые шаги будут аналогичны тем, которые мы выполняли на прошлой неделе при подсчете кол-ва точек по ячейкам регулярной сетки\n"
   ]
  },
  {
   "cell_type": "markdown",
   "id": "c2a63614",
   "metadata": {},
   "source": [
    "##### Шаг1: Выполняем пространственное объединение (Spatial Join)\n",
    "\n",
    "Пересекаем точки с кафе и полигоны регулярной сетки (не забываем, что слои должны быть в одной системе координат)\n"
   ]
  },
  {
   "cell_type": "code",
   "execution_count": null,
   "id": "943f7733",
   "metadata": {},
   "outputs": [],
   "source": [
    "# sjoin: определяем, в какой округ попадает каждый из МКД\n",
    "mkd_in_okrug = gpd.sjoin(mkd_gdf, admin_okrug, predicate=\"within\", how=\"left\")\n",
    "\n",
    "mkd_in_okrug.head()"
   ]
  },
  {
   "cell_type": "markdown",
   "id": "8e319ebf",
   "metadata": {},
   "source": [
    "В атрибутивной таблице выше - все поля, которые идут после \"geometry\" -- атрибутивная информация из слоя с округами, в зависимости от того, в какой округ попадает та или иная точка\n"
   ]
  },
  {
   "cell_type": "markdown",
   "id": "9ff3a353",
   "metadata": {},
   "source": [
    "##### Шаг2: Рассчитываем статистику\n"
   ]
  },
  {
   "cell_type": "markdown",
   "id": "c0da3586",
   "metadata": {},
   "source": [
    "Группируем данные на основе их попадания в тот или иной округ (например, по полю index_right) и рассчитываем значения\n",
    "\n",
    "**Важно**: поскольку мы хотим рассчитывать количественную статистику, необходимо проверить типы данных полей\n",
    "(data_buildingdate, data_residents) и убедиться, что они имеют числовой тип или преобразовать их в числовой\n"
   ]
  },
  {
   "cell_type": "code",
   "execution_count": null,
   "id": "689ecfec",
   "metadata": {},
   "outputs": [],
   "source": [
    "# 1. Посмотреть исходные типы\n",
    "print(\"До преобразования:\")\n",
    "print(mkd_in_okrug[['data_buildingdate']].dtypes)\n",
    "\n",
    "# 2. Преобразование\n",
    "\n",
    "mkd_in_okrug['data_buildingdate'] = pd.to_numeric(mkd_in_okrug['data_buildingdate'], errors='coerce')\n",
    "\n",
    "# 3. Проверка — типы после\n",
    "print(\"\\nПосле преобразования:\")\n",
    "print(mkd_in_okrug['data_buildingdate'].dtypes)\n"
   ]
  },
  {
   "cell_type": "markdown",
   "id": "4d1dcef3",
   "metadata": {},
   "source": [
    "Отлично! Теперь мы точно можем рассчитывать количественную статистику на основе этого поля\n"
   ]
  },
  {
   "cell_type": "markdown",
   "id": "7ee130e4",
   "metadata": {},
   "source": [
    "Рассчитаем средний год постройки МКД в разных округах\n"
   ]
  },
  {
   "cell_type": "code",
   "execution_count": null,
   "id": "72309d83",
   "metadata": {},
   "outputs": [],
   "source": [
    "build_year_mean = mkd_in_okrug.groupby('index_right')['data_buildingdate'].mean()\n",
    "\n",
    "# Добавляем в данные поля с средним годом постройки в слой с округами\n",
    "admin_okrug['build_year_mean'] = build_year_mean\n",
    "\n",
    "# Смотрим на результат\n",
    "admin_okrug.explore(column='build_year_mean', cmap='YlGnBu', tiles='CartoDB positron')\n",
    "\n"
   ]
  },
  {
   "cell_type": "markdown",
   "id": "5490b520",
   "metadata": {},
   "source": [
    "Выглядит очень интересно и правдоподобно :)\n"
   ]
  },
  {
   "cell_type": "markdown",
   "id": "853bf7fa",
   "metadata": {},
   "source": [
    "По аналогии посчитаем медианный год постройки, а также самый ранний и самый поздний\n"
   ]
  },
  {
   "cell_type": "code",
   "execution_count": null,
   "id": "72b508da",
   "metadata": {},
   "outputs": [],
   "source": [
    "build_year_median = mkd_in_okrug.groupby('index_right')['data_buildingdate'].median()\n",
    "build_year_min = mkd_in_okrug.groupby('index_right')['data_buildingdate'].min()\n",
    "build_year_max = mkd_in_okrug.groupby('index_right')['data_buildingdate'].max()\n",
    "\n",
    "# Добавляем в данные соответсвующие поля\n",
    "admin_okrug['build_year_median'] = build_year_median\n",
    "admin_okrug['build_year_min'] = build_year_min\n",
    "admin_okrug['build_year_max'] = build_year_max\n",
    "\n"
   ]
  },
  {
   "cell_type": "markdown",
   "id": "de399379",
   "metadata": {},
   "source": [
    "Отобразим 4 показателя вместе для сравнения\n"
   ]
  },
  {
   "cell_type": "code",
   "execution_count": null,
   "id": "d7353ca6",
   "metadata": {},
   "outputs": [],
   "source": [
    "metrics = [\n",
    "    ('build_year_mean', 'Средний год постройки'),\n",
    "    ('build_year_median', 'Медианный год постройки'),\n",
    "    ('build_year_min', 'Самый ранний год постройки'),\n",
    "    ('build_year_max', 'Самый поздний год постройки'),\n",
    "]\n",
    "\n",
    "# Общий диапазон для всех карт\n",
    "vmin = admin_okrug[[m for m, _ in metrics]].min().min()\n",
    "vmax = admin_okrug[[m for m, _ in metrics]].max().max()\n",
    "\n",
    "# Создаём одну фигуру с 1 строкой и 4 столбцами\n",
    "fig, axes = plt.subplots(1, 4, figsize=(20, 5), constrained_layout=True)\n",
    "\n",
    "# Создаём общий нормализатор и мэппер для цветовой шкалы\n",
    "norm = mpl.colors.Normalize(vmin=vmin, vmax=vmax)\n",
    "cmap = mpl.cm.viridis  # или любая другая\n",
    "\n",
    "for ax, (metric, title) in zip(axes, metrics):\n",
    "    admin_okrug.plot(\n",
    "        column=metric,\n",
    "        ax=ax,\n",
    "        cmap=cmap,\n",
    "        norm=norm,\n",
    "        linewidth=0.5,\n",
    "        edgecolor='gray'\n",
    "    )\n",
    "    ax.set_title(title, fontsize=12)\n",
    "    ax.axis('off')\n",
    "\n",
    "# Общая colorbar\n",
    "sm = mpl.cm.ScalarMappable(cmap=cmap, norm=norm)\n",
    "sm._A = []  # пустой массив, чтобы colorbar работал\n",
    "cbar = fig.colorbar(sm, ax=axes.tolist(), orientation='horizontal',\n",
    "                    fraction=0.05, pad=0.02)\n",
    "cbar.set_label('Год постройки', fontsize=12)\n",
    "\n",
    "plt.show()"
   ]
  },
  {
   "cell_type": "markdown",
   "id": "c2df367e",
   "metadata": {},
   "source": [
    "Красота!\n"
   ]
  },
  {
   "cell_type": "markdown",
   "id": "643d2279",
   "metadata": {},
   "source": [
    "## 4. Итог\n"
   ]
  },
  {
   "cell_type": "markdown",
   "id": "74c3b4aa",
   "metadata": {},
   "source": [
    "На этой неделе мы познакомились с ключевыми инструментами пространственной аналитики: научились создавать буферные зоны, обсудили пространственные предикаты и пространственное объединение, а также научились создавать регулярную сетку и агрегировать по ней точечные данные.\n"
   ]
  }
 ],
 "metadata": {
  "kernelspec": {
   "display_name": "Python 3",
   "language": "python",
   "name": "python3"
  },
  "language_info": {
   "codemirror_mode": {
    "name": "ipython",
    "version": 3
   },
   "file_extension": ".py",
   "mimetype": "text/x-python",
   "name": "python",
   "nbconvert_exporter": "python",
   "pygments_lexer": "ipython3",
   "version": "3.10.6"
  }
 },
 "nbformat": 4,
 "nbformat_minor": 5
}
